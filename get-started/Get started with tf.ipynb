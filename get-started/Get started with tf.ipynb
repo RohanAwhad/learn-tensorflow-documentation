{
 "cells": [
  {
   "cell_type": "code",
   "execution_count": 1,
   "metadata": {},
   "outputs": [],
   "source": [
    "import tensorflow as tf\n"
   ]
  },
  {
   "cell_type": "code",
   "execution_count": 2,
   "metadata": {},
   "outputs": [],
   "source": [
    "mnist = tf.keras.datasets.mnist"
   ]
  },
  {
   "cell_type": "code",
   "execution_count": 4,
   "metadata": {},
   "outputs": [],
   "source": [
    "(x_train, y_train), (x_test, y_test) = mnist.load_data() #loading data\n",
    "x_train, x_test = x_train/255.0, x_test/255.0 #normalizing data"
   ]
  },
  {
   "cell_type": "code",
   "execution_count": 6,
   "metadata": {},
   "outputs": [],
   "source": [
    "#model structure and initialization \n",
    "model = tf.keras.models.Sequential([\n",
    "    tf.keras.layers.Flatten(input_shape=(28,28)), #converts 2d into 1d\n",
    "    tf.keras.layers.Dense(512, activation=tf.nn.relu), #fully connected layer\n",
    "    tf.keras.layers.Dropout(0.2), #use to avoid overfitting drop randomly some weights while predicting\n",
    "    tf.keras.layers.Dense(10, activation=tf.nn.softmax) #output layer fully_connected\n",
    "])"
   ]
  },
  {
   "cell_type": "code",
   "execution_count": 7,
   "metadata": {},
   "outputs": [
    {
     "name": "stdout",
     "output_type": "stream",
     "text": [
      "Epoch 1/5\n",
      "60000/60000 [==============================] - 16s 269us/step - loss: 0.2228 - acc: 0.9337\n",
      "Epoch 2/5\n",
      "60000/60000 [==============================] - 16s 268us/step - loss: 0.0977 - acc: 0.9698\n",
      "Epoch 3/5\n",
      "60000/60000 [==============================] - 16s 267us/step - loss: 0.0707 - acc: 0.9778\n",
      "Epoch 4/5\n",
      "60000/60000 [==============================] - 17s 282us/step - loss: 0.0536 - acc: 0.9827\n",
      "Epoch 5/5\n",
      "60000/60000 [==============================] - 17s 289us/step - loss: 0.0445 - acc: 0.9852\n",
      "10000/10000 [==============================] - 1s 73us/step\n"
     ]
    },
    {
     "data": {
      "text/plain": [
       "[0.06338517198752962, 0.9813]"
      ]
     },
     "execution_count": 7,
     "metadata": {},
     "output_type": "execute_result"
    }
   ],
   "source": [
    "model.compile(optimizer='adam', loss='sparse_categorical_crossentropy', metrics=['accuracy']) #describe loss function optimizer and metrics for evaluation\n",
    "model.fit(x_train, y_train, epochs=5) #train\n",
    "model.evaluate(x_test, y_test) #evaluation"
   ]
  },
  {
   "cell_type": "code",
   "execution_count": null,
   "metadata": {},
   "outputs": [],
   "source": []
  },
  {
   "cell_type": "markdown",
   "metadata": {},
   "source": []
  }
 ],
 "metadata": {
  "kernelspec": {
   "display_name": "Python 3",
   "language": "python",
   "name": "python3"
  },
  "language_info": {
   "codemirror_mode": {
    "name": "ipython",
    "version": 3
   },
   "file_extension": ".py",
   "mimetype": "text/x-python",
   "name": "python",
   "nbconvert_exporter": "python",
   "pygments_lexer": "ipython3",
   "version": "3.6.8"
  }
 },
 "nbformat": 4,
 "nbformat_minor": 2
}
